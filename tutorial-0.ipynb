{
 "cells": [
  {
   "cell_type": "markdown",
   "metadata": {},
   "source": [
    "# Tutorial 0"
   ]
  },
  {
   "cell_type": "markdown",
   "metadata": {},
   "source": [
    "## pyhealth.data.Event"
   ]
  },
  {
   "cell_type": "code",
   "execution_count": null,
   "metadata": {},
   "outputs": [],
   "source": [
    "from pyhealth.data import Event\n",
    "from datetime import datetime"
   ]
  },
  {
   "cell_type": "code",
   "execution_count": null,
   "metadata": {},
   "outputs": [],
   "source": [
    "event1 = Event(\n",
    "    code = \"428.0\",\n",
    "    table = \"DIAGNOSES_ICD\",\n",
    "    vocabulary = \"ICD9CM\",\n",
    "    visit_id = \"v001\",\n",
    "    patient_id = \"p001\",\n",
    "    timestamp = datetime.now()\n",
    ")"
   ]
  },
  {
   "cell_type": "code",
   "execution_count": null,
   "metadata": {},
   "outputs": [],
   "source": [
    "print(event1)"
   ]
  },
  {
   "cell_type": "code",
   "execution_count": null,
   "metadata": {},
   "outputs": [],
   "source": [
    "event2 = Event(\n",
    "    code = \"00069153041\",\n",
    "    table = \"PRESCRIPTIONS\",\n",
    "    vocabulary = \"NDC\",\n",
    "    visit_id = \"v001\",\n",
    "    patient_id = \"p001\",\n",
    "    timestamp = datetime.now(),\n",
    "    activate_on_discharge = True\n",
    ")"
   ]
  },
  {
   "cell_type": "code",
   "execution_count": null,
   "metadata": {},
   "outputs": [],
   "source": [
    "event2.attr_dict"
   ]
  },
  {
   "cell_type": "markdown",
   "metadata": {},
   "source": [
    "## pyhealth.data.Visit"
   ]
  },
  {
   "cell_type": "code",
   "execution_count": null,
   "metadata": {},
   "outputs": [],
   "source": [
    "from pyhealth.data import Visit\n",
    "from datetime import timedelta"
   ]
  },
  {
   "cell_type": "code",
   "execution_count": null,
   "metadata": {},
   "outputs": [],
   "source": [
    "visit1 = Visit(\n",
    "    visit_id = \"v001\",\n",
    "    patient_id = \"p001\",\n",
    "    encounter_time = datetime.now() - timedelta(days = 2),\n",
    "    discharge_time = datetime.now() - timedelta(days = 1),\n",
    "    discharge_status = \"Alive\"\n",
    ")\n",
    "\n",
    "visit1.add_event(event1)\n",
    "visit1.add_event(event2)"
   ]
  },
  {
   "cell_type": "code",
   "execution_count": null,
   "metadata": {},
   "outputs": [],
   "source": [
    "print(visit1)"
   ]
  },
  {
   "cell_type": "markdown",
   "metadata": {},
   "source": [
    "## pyhealth.data.Patient"
   ]
  },
  {
   "cell_type": "code",
   "execution_count": null,
   "metadata": {},
   "outputs": [],
   "source": [
    "from pyhealth.data import Patient"
   ]
  },
  {
   "cell_type": "code",
   "execution_count": null,
   "metadata": {},
   "outputs": [],
   "source": [
    "patient = Patient(\n",
    "    patient_id = \"p001\",\n",
    "    birth_datetime = datetime(2012, 9, 16, 0, 0),\n",
    "    death_datetime = None,\n",
    "    gender = \"F\",\n",
    "    ethnicity = \"White\",\n",
    ")\n",
    "\n",
    "patient.add_visit(visit1)"
   ]
  },
  {
   "cell_type": "code",
   "execution_count": null,
   "metadata": {},
   "outputs": [],
   "source": [
    "print(patient)"
   ]
  }
 ],
 "metadata": {
  "kernelspec": {
   "display_name": ".venv",
   "language": "python",
   "name": "python3"
  },
  "language_info": {
   "codemirror_mode": {
    "name": "ipython",
    "version": 3
   },
   "file_extension": ".py",
   "mimetype": "text/x-python",
   "name": "python",
   "nbconvert_exporter": "python",
   "pygments_lexer": "ipython3",
   "version": "3.12.0"
  }
 },
 "nbformat": 4,
 "nbformat_minor": 2
}
